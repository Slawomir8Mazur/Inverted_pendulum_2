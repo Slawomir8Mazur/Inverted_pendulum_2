{
 "cells": [
  {
   "cell_type": "code",
   "execution_count": 1,
   "metadata": {},
   "outputs": [],
   "source": [
    "import numpy as np\n",
    "import pandas as pd\n",
    "import matplotlib.pyplot as plt\n",
    "from pendulum import Record"
   ]
  },
  {
   "cell_type": "code",
   "execution_count": 2,
   "metadata": {},
   "outputs": [],
   "source": [
    "#creating an inverted pendulum object\n",
    "pendulum = Record()"
   ]
  },
  {
   "cell_type": "markdown",
   "metadata": {},
   "source": [
    "Pendulum has 3 atributes (currently all of them empty):\n",
    "- record - containing current state (including phisical features like mass)\n",
    "- last_movement - containing movement parameters from last move\n",
    "- stack_of_movement - containing all the movement parameters from before last movement"
   ]
  },
  {
   "cell_type": "code",
   "execution_count": 3,
   "metadata": {},
   "outputs": [
    {
     "name": "stdout",
     "output_type": "stream",
     "text": [
      "   m_1  m_2   l  __x  _x   x  __fi  _fi  fi   g   t\n",
      "0  NaN  NaN NaN  NaN NaN NaN   NaN  NaN NaN NaN NaN\n",
      "   __x  _x   x  __fi  _fi  fi   t\n",
      "1  NaN NaN NaN   NaN  NaN NaN NaN\n",
      "   __x  _x   x  __fi  _fi  fi   t\n",
      "1  NaN NaN NaN   NaN  NaN NaN NaN\n"
     ]
    }
   ],
   "source": [
    "#pendulum's empty atributes\n",
    "print(pendulum.record)\n",
    "print(pendulum.last_movement)\n",
    "print(pendulum.stack_of_movement)\n"
   ]
  },
  {
   "cell_type": "code",
   "execution_count": 4,
   "metadata": {},
   "outputs": [
    {
     "name": "stdout",
     "output_type": "stream",
     "text": [
      "   m_1  m_2   l  __x  _x   x  __fi  _fi  fi   g   t\n",
      "0  NaN  NaN NaN  NaN NaN NaN   NaN  NaN NaN NaN NaN\n",
      "\n",
      "   __x  _x   x  __fi  _fi  fi   t\n",
      "1  NaN NaN NaN   NaN  NaN NaN NaN\n",
      "\n",
      "   __x  _x   x  __fi  _fi  fi   t\n",
      "1  NaN NaN NaN   NaN  NaN NaN NaN\n"
     ]
    }
   ],
   "source": [
    "#Above can be done also like this:\n",
    "print(pendulum)"
   ]
  },
  {
   "cell_type": "markdown",
   "metadata": {},
   "source": [
    "atributes are displayed as tables where first row contains features (variable) name and rows below contain features value"
   ]
  },
  {
   "cell_type": "markdown",
   "metadata": {},
   "source": [
    "Setting specyfic parameters for pendulum:"
   ]
  },
  {
   "cell_type": "code",
   "execution_count": 5,
   "metadata": {},
   "outputs": [
    {
     "name": "stdout",
     "output_type": "stream",
     "text": [
      "   m_1  m_2  l  __x  _x  x  __fi  _fi  fi     g  t\n",
      "0   10    1  1    0   0  0     0    0   0  9.81  0\n",
      "\n",
      "   __x  _x   x  __fi  _fi  fi   t\n",
      "1  NaN NaN NaN   NaN  NaN NaN NaN\n",
      "\n",
      "   __x  _x   x  __fi  _fi  fi   t\n",
      "1  NaN NaN NaN   NaN  NaN NaN NaN\n"
     ]
    }
   ],
   "source": [
    "new_record = Record(m_1=10, m_2=1, l=1, __x=0, _x=0, x=0, __fi=0, _fi=0, fi=0, g=9.81, t=0)\n",
    "print(new_record)"
   ]
  },
  {
   "cell_type": "code",
   "execution_count": 6,
   "metadata": {},
   "outputs": [
    {
     "data": {
      "text/plain": [
       "{'record':    m_1  m_2  l  __x  _x  x  __fi  _fi  fi     g  t\n",
       " 0   10    1  1    0   0  0     0    0   0  9.81  0,\n",
       " 'stack_of_movement':    __x  _x   x  __fi  _fi  fi   t\n",
       " 1  NaN NaN NaN   NaN  NaN NaN NaN,\n",
       " 'last_movement':    __x  _x   x  __fi  _fi  fi   t\n",
       " 1  NaN NaN NaN   NaN  NaN NaN NaN}"
      ]
     },
     "execution_count": 6,
     "metadata": {},
     "output_type": "execute_result"
    }
   ],
   "source": [
    "#features\n",
    "new_record.__dict__"
   ]
  },
  {
   "cell_type": "markdown",
   "metadata": {},
   "source": [
    "# Moving"
   ]
  },
  {
   "cell_type": "code",
   "execution_count": 7,
   "metadata": {},
   "outputs": [
    {
     "name": "stdout",
     "output_type": "stream",
     "text": [
      "   m_1  m_2  l  __x  _x  x  __fi  _fi  fi     g  t\n",
      "0   10    1  1    0   0  0     0    0   0  9.81  0\n",
      "\n",
      "   __x  _x   x  __fi  _fi  fi   t\n",
      "1  NaN NaN NaN   NaN  NaN NaN NaN\n",
      "\n",
      "   __x  _x   x  __fi  _fi  fi   t\n",
      "1  NaN NaN NaN   NaN  NaN NaN NaN\n"
     ]
    }
   ],
   "source": [
    "print(new_record)"
   ]
  },
  {
   "cell_type": "code",
   "execution_count": 8,
   "metadata": {},
   "outputs": [],
   "source": [
    "new_record.move([(1000, 0.2)]) # moving with force 1kN for 0.2 secounds\n",
    "#There are 3 sets of brackets insided! -> ([( )])"
   ]
  },
  {
   "cell_type": "code",
   "execution_count": 9,
   "metadata": {},
   "outputs": [
    {
     "name": "stdout",
     "output_type": "stream",
     "text": [
      "   m_1  m_2  l         __x         _x         x       __fi        _fi       fi     g    t\n",
      "0   10    1  1 -109.242204 -18.263317 -1.931378  12.097707 -14.210847 -1.77088  9.81  0.2\n",
      "\n",
      "           __x         _x         x       __fi        _fi        fi     t\n",
      "0     0.000000   0.000000  0.000000   0.000000   0.000000  0.000000  0.00\n",
      "1   -90.909091  -1.818182 -0.036364 -90.909091  -1.818182 -0.036364  0.02\n",
      "2   -82.661017  -3.471402 -0.105792 -82.963020  -3.477442 -0.105912  0.04\n",
      "3   -83.525475  -5.141912 -0.208630 -84.094501  -5.159332 -0.209099  0.06\n",
      "4   -83.932972  -6.820571 -0.345041 -84.141118  -6.842155 -0.345942  0.08\n",
      "5   -85.156174  -8.523695 -0.515515 -83.437620  -8.510907 -0.516160  0.10\n",
      "6   -87.562067 -10.274936 -0.721014 -80.996205 -10.130831 -0.718777  0.12\n",
      "7   -91.511092 -12.105158 -0.963117 -75.331849 -11.637468 -0.951526  0.14\n",
      "8   -96.959621 -14.044350 -1.244004 -64.267633 -12.922821 -1.209983  0.16\n",
      "9  -103.050676 -16.105364 -1.566111 -45.558884 -13.833998 -1.486663  0.18\n",
      "10 -107.897642 -18.263317 -1.931378 -18.842412 -14.210847 -1.770880  0.20\n",
      "\n",
      "   __x  _x   x  __fi  _fi  fi   t\n",
      "0  NaN NaN NaN   NaN  NaN NaN NaN\n"
     ]
    }
   ],
   "source": [
    "print(new_record)"
   ]
  },
  {
   "cell_type": "markdown",
   "metadata": {},
   "source": [
    "#### More moving:"
   ]
  },
  {
   "cell_type": "markdown",
   "metadata": {},
   "source": [
    "code below will be moving pendulum 3 times:\n",
    "- for 0.1 secounds with force of 200N\n",
    "- for 0.2 secounds with force of 100N\n",
    "- for 0.3 secounds with force of 50N"
   ]
  },
  {
   "cell_type": "code",
   "execution_count": 10,
   "metadata": {},
   "outputs": [
    {
     "name": "stdout",
     "output_type": "stream",
     "text": [
      "   m_1  m_2  l        __x       _x        x      __fi       _fi       fi     g    t\n",
      "0    5    2  1 -20.300669 -8.98935 -2.75786  1.892062 -7.319169 -2.17815  9.81  0.6\n",
      "\n",
      "          __x        _x         x       __fi       _fi        fi     t\n",
      "0    0.000000  0.000000  0.000000   0.000000  0.000000  0.349066  0.00\n",
      "1  -28.571429 -0.285714 -0.002857 -23.493143 -0.234931  0.346717  0.01\n",
      "2  -22.253170 -0.508246 -0.007940 -17.595411 -0.410886  0.342608  0.02\n",
      "3  -23.820139 -0.746447 -0.015404 -19.140142 -0.602287  0.336585  0.03\n",
      "4  -23.375441 -0.980202 -0.025206 -18.823896 -0.790526  0.328680  0.04\n",
      "5  -23.423438 -1.214436 -0.037350 -19.002963 -0.980556  0.318874  0.05\n",
      "6  -23.329592 -1.447732 -0.051828 -19.078113 -1.171337  0.307161  0.06\n",
      "7  -23.257138 -1.680303 -0.068631 -19.202522 -1.363362  0.293527  0.07\n",
      "8  -23.165997 -1.911963 -0.087750 -19.336843 -1.556730  0.277960  0.08\n",
      "9  -23.068682 -2.142650 -0.109177 -19.491436 -1.751645  0.260443  0.09\n",
      "10 -22.964512 -2.372295 -0.132900 -19.663893 -1.948284  0.240960  0.10\n",
      "11 -22.856685 -2.372295 -0.132900 -19.855325 -1.948284  0.240960  0.10\n",
      "12  -8.517856 -2.457474 -0.157475  -5.930755 -2.007591  0.220885  0.11\n",
      "13 -12.380086 -2.581275 -0.183287  -9.930000 -2.106891  0.199816  0.12\n",
      "14 -11.253282 -2.693808 -0.210225  -9.082204 -2.197713  0.177838  0.13\n",
      "15 -11.487602 -2.808684 -0.238312  -9.571010 -2.293423  0.154904  0.14\n",
      "16 -11.352023 -2.922204 -0.267534  -9.702557 -2.390449  0.131000  0.15\n",
      "17 -11.324043 -3.035444 -0.297889  -9.945581 -2.489905  0.106101  0.16\n",
      "18 -11.272513 -3.148169 -0.329370 -10.170227 -2.591607  0.080185  0.17\n",
      "19 -11.235564 -3.260525 -0.361976 -10.413695 -2.695744  0.053227  0.18\n",
      "20 -11.204124 -3.372566 -0.395701 -10.666344 -2.802407  0.025203  0.19\n",
      "21 -11.182609 -3.484392 -0.430545 -10.931841 -2.911726 -0.003914  0.20\n",
      "22 -11.171836 -3.596111 -0.466506 -11.210148 -3.023827 -0.034152  0.21\n",
      "23 -11.173886 -3.707850 -0.503585 -11.502340 -3.138851 -0.065541  0.22\n",
      "24 -11.190751 -3.819757 -0.541782 -11.809220 -3.256943 -0.098110  0.23\n",
      "25 -11.224750 -3.932005 -0.581103 -12.131690 -3.378260 -0.131893  0.24\n",
      "26 -11.278447 -4.044789 -0.621550 -12.470612 -3.502966 -0.166923  0.25\n",
      "27 -11.354712 -4.158336 -0.663134 -12.826806 -3.631234 -0.203235  0.26\n",
      "28 -11.456744 -4.272904 -0.705863 -13.200988 -3.763244 -0.240867  0.27\n",
      "29 -11.588109 -4.388785 -0.749751 -13.593704 -3.899181 -0.279859  0.28\n",
      "30 -11.752776 -4.506312 -0.794814 -14.005247 -4.039233 -0.320252  0.29\n",
      "31 -11.955145 -4.625864 -0.841072 -14.435541 -4.183589 -0.362087  0.30\n",
      "32 -12.200085 -4.625864 -0.841072 -14.883992 -4.183589 -0.362087  0.30\n",
      "33  -4.937407 -4.675238 -0.887825  -8.092230 -4.264511 -0.404733  0.31\n",
      "34  -7.063639 -4.745874 -0.935284 -10.355864 -4.368070 -0.448413  0.32\n",
      "35  -6.839955 -4.814274 -0.983426 -10.416720 -4.472237 -0.493136  0.33\n",
      "36  -7.226467 -4.886539 -1.032292 -11.009412 -4.582331 -0.538959  0.34\n",
      "37  -7.522340 -4.961762 -1.081909 -11.490911 -4.697240 -0.585931  0.35\n",
      "38  -7.893340 -5.040695 -1.132316 -12.001402 -4.817254 -0.634104  0.36\n",
      "39  -8.308608 -5.123781 -1.183554 -12.505431 -4.942308 -0.683527  0.37\n",
      "40  -8.779989 -5.211581 -1.235670 -13.002891 -5.072337 -0.734250  0.38\n",
      "41  -9.310423 -5.304686 -1.288717 -13.484439 -5.207182 -0.786322  0.39\n",
      "42  -9.904171 -5.403727 -1.342754 -13.939957 -5.346581 -0.839788  0.40\n",
      "43 -10.564476 -5.509372 -1.397848 -14.356623 -5.490148 -0.894689  0.41\n",
      "44 -11.293477 -5.622307 -1.454071 -14.718964 -5.637337 -0.951063  0.42\n",
      "45 -12.091595 -5.743223 -1.511503 -15.008686 -5.787424 -1.008937  0.43\n",
      "46 -12.956866 -5.872791 -1.570231 -15.204777 -5.939472 -1.068332  0.44\n",
      "47 -13.884162 -6.011633 -1.630347 -15.283899 -6.092311 -1.129255  0.45\n",
      "48 -14.864359 -6.160277 -1.691950 -15.221203 -6.244523 -1.191700  0.46\n",
      "49 -15.883539 -6.319112 -1.755141 -14.991682 -6.394440 -1.255644  0.47\n",
      "50 -16.922348 -6.488336 -1.820025 -14.572116 -6.540161 -1.321046  0.48\n",
      "51 -17.955697 -6.667893 -1.886703 -13.943602 -6.679597 -1.387842  0.49\n",
      "52 -18.953012 -6.857423 -1.955278 -13.094499 -6.810542 -1.455947  0.50\n",
      "53 -19.879236 -7.056215 -2.025840 -12.023465 -6.930776 -1.525255  0.51\n",
      "54 -20.696710 -7.263182 -2.098472 -10.742054 -7.038197 -1.595637  0.52\n",
      "55 -21.367928 -7.476861 -2.173240  -9.276230 -7.130959 -1.666947  0.53\n",
      "56 -21.858928 -7.695451 -2.250195  -7.666180 -7.207621 -1.739023  0.54\n",
      "57 -22.142863 -7.916879 -2.329364  -5.964039 -7.267261 -1.811696  0.55\n",
      "58 -22.203122 -8.138911 -2.410753  -4.229592 -7.309557 -1.884791  0.56\n",
      "59 -22.035333 -8.359264 -2.494345  -2.524516 -7.334803 -1.958139  0.57\n",
      "60 -21.647784 -8.575742 -2.580103  -0.906230 -7.343865 -2.031578  0.58\n",
      "61 -21.060127 -8.786343 -2.667966   0.577480 -7.338090 -2.104959  0.59\n",
      "\n",
      "   __x  _x   x  __fi  _fi  fi   t\n",
      "0  NaN NaN NaN   NaN  NaN NaN NaN\n"
     ]
    }
   ],
   "source": [
    "r = Record()\n",
    "r.position_set(20)\n",
    "r.move([(200, 0.1), (100, 0.2), (50, 0.3)], dt_min=0.01)\n",
    "print(r)"
   ]
  },
  {
   "cell_type": "markdown",
   "metadata": {},
   "source": [
    "# Visualization"
   ]
  },
  {
   "cell_type": "markdown",
   "metadata": {},
   "source": [
    "For printing data from\n",
    "- r - name of pendulum\n",
    "- last_movement - name of table with parameters\n",
    "- chosen features: 'x' and 'fi'"
   ]
  },
  {
   "cell_type": "code",
   "execution_count": 11,
   "metadata": {},
   "outputs": [
    {
     "data": {
      "image/png": "[encoded data removed]",
      "text/plain": [
       "<Figure size 432x288 with 1 Axes>"
      ]
     },
     "metadata": {},
     "output_type": "display_data"
    },
    {
     "data": {
      "image/png": "[encoded data removed]",
      "text/plain": [
       "<Figure size 432x288 with 1 Axes>"
      ]
     },
     "metadata": {},
     "output_type": "display_data"
    }
   ],
   "source": [
    "r.visualize(features=['x', 'fi'],\n",
    "           source=r.last_movement,\n",
    "           separately=True)"
   ]
  },
  {
   "cell_type": "markdown",
   "metadata": {},
   "source": [
    "other special parameter for features: ('move')"
   ]
  },
  {
   "cell_type": "code",
   "execution_count": 12,
   "metadata": {},
   "outputs": [
    {
     "data": {
      "image/png": "[encoded data removed]",
      "text/plain": [
       "<Figure size 432x288 with 6 Axes>"
      ]
     },
     "metadata": {},
     "output_type": "display_data"
    }
   ],
   "source": [
    "r.visualize(features=['move'],\n",
    "           source=r.last_movement,\n",
    "           separately=False)"
   ]
  }
 ],
 "metadata": {
  "kernelspec": {
   "display_name": "Python 3",
   "language": "python",
   "name": "python3"
  },
  "language_info": {
   "codemirror_mode": {
    "name": "ipython",
    "version": 3
   },
   "file_extension": ".py",
   "mimetype": "text/x-python",
   "name": "python",
   "nbconvert_exporter": "python",
   "pygments_lexer": "ipython3",
   "version": "3.6.2"
  }
 },
 "nbformat": 4,
 "nbformat_minor": 1
}
